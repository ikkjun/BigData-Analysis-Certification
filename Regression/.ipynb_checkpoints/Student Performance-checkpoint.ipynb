{
 "cells": [
  {
   "cell_type": "markdown",
   "id": "e095f6d1",
   "metadata": {
    "papermill": {
     "duration": 0.007506,
     "end_time": "2022-12-07T04:34:22.352328",
     "exception": false,
     "start_time": "2022-12-07T04:34:22.344822",
     "status": "completed"
    },
    "tags": []
   },
   "source": [
    "# 1. Package Import"
   ]
  },
  {
   "cell_type": "code",
   "execution_count": 2,
   "id": "d166f566",
   "metadata": {
    "_cell_guid": "b1076dfc-b9ad-4769-8c92-a6c4dae69d19",
    "_uuid": "8f2839f25d086af736a60e9eeb907d3b93b6e0e5",
    "execution": {
     "iopub.execute_input": "2022-12-07T04:34:22.367542Z",
     "iopub.status.busy": "2022-12-07T04:34:22.366989Z",
     "iopub.status.idle": "2022-12-07T04:34:24.040927Z",
     "shell.execute_reply": "2022-12-07T04:34:24.039474Z"
    },
    "papermill": {
     "duration": 1.685481,
     "end_time": "2022-12-07T04:34:24.044214",
     "exception": false,
     "start_time": "2022-12-07T04:34:22.358733",
     "status": "completed"
    },
    "tags": []
   },
   "outputs": [],
   "source": [
    "import numpy as np \n",
    "import pandas as pd \n",
    "from sklearn.ensemble import RandomForestRegressor\n",
    "from sklearn.metrics import r2_score\n",
    "from sklearn.model_selection import GridSearchCV, train_test_split\n",
    "from sklearn.preprocessing import LabelEncoder, StandardScaler\n",
    "from sklearn.impute import SimpleImputer\n",
    "from xgboost import XGBRegressor"
   ]
  },
  {
   "cell_type": "markdown",
   "id": "48038a91",
   "metadata": {
    "papermill": {
     "duration": 0.006077,
     "end_time": "2022-12-07T04:34:24.057248",
     "exception": false,
     "start_time": "2022-12-07T04:34:24.051171",
     "status": "completed"
    },
    "tags": []
   },
   "source": [
    "# 2. Data Load"
   ]
  },
  {
   "cell_type": "code",
   "execution_count": 5,
   "id": "c96a3f24",
   "metadata": {},
   "outputs": [],
   "source": [
    "X_test = pd.read_csv(\"Student_Performance_X_test.csv\")\n",
    "X_train = pd.read_csv(\"Student_Performance_X_train.csv\")\n",
    "y_train = pd.read_csv(\"Student_Performance_y_train.csv\")"
   ]
  },
  {
   "cell_type": "code",
   "execution_count": 8,
   "id": "5da08851",
   "metadata": {},
   "outputs": [
    {
     "data": {
      "text/html": [
       "<div>\n",
       "<style scoped>\n",
       "    .dataframe tbody tr th:only-of-type {\n",
       "        vertical-align: middle;\n",
       "    }\n",
       "\n",
       "    .dataframe tbody tr th {\n",
       "        vertical-align: top;\n",
       "    }\n",
       "\n",
       "    .dataframe thead th {\n",
       "        text-align: right;\n",
       "    }\n",
       "</style>\n",
       "<table border=\"1\" class=\"dataframe\">\n",
       "  <thead>\n",
       "    <tr style=\"text-align: right;\">\n",
       "      <th></th>\n",
       "      <th>StudentID</th>\n",
       "      <th>school</th>\n",
       "      <th>sex</th>\n",
       "      <th>age</th>\n",
       "      <th>address</th>\n",
       "      <th>famsize</th>\n",
       "      <th>Pstatus</th>\n",
       "      <th>Medu</th>\n",
       "      <th>Fedu</th>\n",
       "      <th>Mjob</th>\n",
       "      <th>...</th>\n",
       "      <th>romantic</th>\n",
       "      <th>famrel</th>\n",
       "      <th>freetime</th>\n",
       "      <th>goout</th>\n",
       "      <th>Dalc</th>\n",
       "      <th>Walc</th>\n",
       "      <th>health</th>\n",
       "      <th>absences</th>\n",
       "      <th>G1</th>\n",
       "      <th>G2</th>\n",
       "    </tr>\n",
       "  </thead>\n",
       "  <tbody>\n",
       "    <tr>\n",
       "      <th>0</th>\n",
       "      <td>1714</td>\n",
       "      <td>GP</td>\n",
       "      <td>F</td>\n",
       "      <td>18</td>\n",
       "      <td>U</td>\n",
       "      <td>GT3</td>\n",
       "      <td>T</td>\n",
       "      <td>4</td>\n",
       "      <td>3</td>\n",
       "      <td>other</td>\n",
       "      <td>...</td>\n",
       "      <td>no</td>\n",
       "      <td>4</td>\n",
       "      <td>3</td>\n",
       "      <td>3</td>\n",
       "      <td>1</td>\n",
       "      <td>1</td>\n",
       "      <td>3</td>\n",
       "      <td>0</td>\n",
       "      <td>14</td>\n",
       "      <td>13</td>\n",
       "    </tr>\n",
       "    <tr>\n",
       "      <th>1</th>\n",
       "      <td>1254</td>\n",
       "      <td>GP</td>\n",
       "      <td>F</td>\n",
       "      <td>17</td>\n",
       "      <td>U</td>\n",
       "      <td>GT3</td>\n",
       "      <td>T</td>\n",
       "      <td>4</td>\n",
       "      <td>3</td>\n",
       "      <td>health</td>\n",
       "      <td>...</td>\n",
       "      <td>yes</td>\n",
       "      <td>4</td>\n",
       "      <td>4</td>\n",
       "      <td>3</td>\n",
       "      <td>1</td>\n",
       "      <td>3</td>\n",
       "      <td>4</td>\n",
       "      <td>0</td>\n",
       "      <td>13</td>\n",
       "      <td>15</td>\n",
       "    </tr>\n",
       "    <tr>\n",
       "      <th>2</th>\n",
       "      <td>1639</td>\n",
       "      <td>GP</td>\n",
       "      <td>F</td>\n",
       "      <td>16</td>\n",
       "      <td>R</td>\n",
       "      <td>GT3</td>\n",
       "      <td>T</td>\n",
       "      <td>4</td>\n",
       "      <td>4</td>\n",
       "      <td>health</td>\n",
       "      <td>...</td>\n",
       "      <td>no</td>\n",
       "      <td>2</td>\n",
       "      <td>4</td>\n",
       "      <td>4</td>\n",
       "      <td>2</td>\n",
       "      <td>3</td>\n",
       "      <td>4</td>\n",
       "      <td>6</td>\n",
       "      <td>10</td>\n",
       "      <td>11</td>\n",
       "    </tr>\n",
       "    <tr>\n",
       "      <th>3</th>\n",
       "      <td>1118</td>\n",
       "      <td>GP</td>\n",
       "      <td>M</td>\n",
       "      <td>16</td>\n",
       "      <td>U</td>\n",
       "      <td>GT3</td>\n",
       "      <td>T</td>\n",
       "      <td>4</td>\n",
       "      <td>4</td>\n",
       "      <td>services</td>\n",
       "      <td>...</td>\n",
       "      <td>no</td>\n",
       "      <td>5</td>\n",
       "      <td>3</td>\n",
       "      <td>3</td>\n",
       "      <td>1</td>\n",
       "      <td>3</td>\n",
       "      <td>5</td>\n",
       "      <td>0</td>\n",
       "      <td>15</td>\n",
       "      <td>13</td>\n",
       "    </tr>\n",
       "    <tr>\n",
       "      <th>4</th>\n",
       "      <td>1499</td>\n",
       "      <td>GP</td>\n",
       "      <td>M</td>\n",
       "      <td>19</td>\n",
       "      <td>U</td>\n",
       "      <td>GT3</td>\n",
       "      <td>T</td>\n",
       "      <td>3</td>\n",
       "      <td>2</td>\n",
       "      <td>services</td>\n",
       "      <td>...</td>\n",
       "      <td>yes</td>\n",
       "      <td>4</td>\n",
       "      <td>5</td>\n",
       "      <td>4</td>\n",
       "      <td>1</td>\n",
       "      <td>1</td>\n",
       "      <td>4</td>\n",
       "      <td>0</td>\n",
       "      <td>5</td>\n",
       "      <td>0</td>\n",
       "    </tr>\n",
       "  </tbody>\n",
       "</table>\n",
       "<p>5 rows × 33 columns</p>\n",
       "</div>"
      ],
      "text/plain": [
       "   StudentID school sex  age address famsize Pstatus  Medu  Fedu      Mjob  \\\n",
       "0       1714     GP   F   18       U     GT3       T     4     3     other   \n",
       "1       1254     GP   F   17       U     GT3       T     4     3    health   \n",
       "2       1639     GP   F   16       R     GT3       T     4     4    health   \n",
       "3       1118     GP   M   16       U     GT3       T     4     4  services   \n",
       "4       1499     GP   M   19       U     GT3       T     3     2  services   \n",
       "\n",
       "   ... romantic famrel freetime  goout  Dalc  Walc health absences  G1  G2  \n",
       "0  ...       no      4        3      3     1     1      3        0  14  13  \n",
       "1  ...      yes      4        4      3     1     3      4        0  13  15  \n",
       "2  ...       no      2        4      4     2     3      4        6  10  11  \n",
       "3  ...       no      5        3      3     1     3      5        0  15  13  \n",
       "4  ...      yes      4        5      4     1     1      4        0   5   0  \n",
       "\n",
       "[5 rows x 33 columns]"
      ]
     },
     "execution_count": 8,
     "metadata": {},
     "output_type": "execute_result"
    }
   ],
   "source": [
    "X_train.head()"
   ]
  },
  {
   "cell_type": "code",
   "execution_count": 7,
   "id": "0b463241",
   "metadata": {
    "scrolled": true
   },
   "outputs": [
    {
     "data": {
      "text/html": [
       "<div>\n",
       "<style scoped>\n",
       "    .dataframe tbody tr th:only-of-type {\n",
       "        vertical-align: middle;\n",
       "    }\n",
       "\n",
       "    .dataframe tbody tr th {\n",
       "        vertical-align: top;\n",
       "    }\n",
       "\n",
       "    .dataframe thead th {\n",
       "        text-align: right;\n",
       "    }\n",
       "</style>\n",
       "<table border=\"1\" class=\"dataframe\">\n",
       "  <thead>\n",
       "    <tr style=\"text-align: right;\">\n",
       "      <th></th>\n",
       "      <th>StudentID</th>\n",
       "      <th>school</th>\n",
       "      <th>sex</th>\n",
       "      <th>age</th>\n",
       "      <th>address</th>\n",
       "      <th>famsize</th>\n",
       "      <th>Pstatus</th>\n",
       "      <th>Medu</th>\n",
       "      <th>Fedu</th>\n",
       "      <th>Mjob</th>\n",
       "      <th>...</th>\n",
       "      <th>romantic</th>\n",
       "      <th>famrel</th>\n",
       "      <th>freetime</th>\n",
       "      <th>goout</th>\n",
       "      <th>Dalc</th>\n",
       "      <th>Walc</th>\n",
       "      <th>health</th>\n",
       "      <th>absences</th>\n",
       "      <th>G1</th>\n",
       "      <th>G2</th>\n",
       "    </tr>\n",
       "  </thead>\n",
       "  <tbody>\n",
       "    <tr>\n",
       "      <th>0</th>\n",
       "      <td>1000</td>\n",
       "      <td>GP</td>\n",
       "      <td>F</td>\n",
       "      <td>16</td>\n",
       "      <td>U</td>\n",
       "      <td>GT3</td>\n",
       "      <td>T</td>\n",
       "      <td>4</td>\n",
       "      <td>2</td>\n",
       "      <td>services</td>\n",
       "      <td>...</td>\n",
       "      <td>no</td>\n",
       "      <td>4</td>\n",
       "      <td>2</td>\n",
       "      <td>3</td>\n",
       "      <td>1</td>\n",
       "      <td>1</td>\n",
       "      <td>5</td>\n",
       "      <td>2</td>\n",
       "      <td>15</td>\n",
       "      <td>16</td>\n",
       "    </tr>\n",
       "    <tr>\n",
       "      <th>1</th>\n",
       "      <td>1008</td>\n",
       "      <td>GP</td>\n",
       "      <td>M</td>\n",
       "      <td>19</td>\n",
       "      <td>U</td>\n",
       "      <td>GT3</td>\n",
       "      <td>T</td>\n",
       "      <td>1</td>\n",
       "      <td>2</td>\n",
       "      <td>other</td>\n",
       "      <td>...</td>\n",
       "      <td>no</td>\n",
       "      <td>4</td>\n",
       "      <td>5</td>\n",
       "      <td>2</td>\n",
       "      <td>2</td>\n",
       "      <td>2</td>\n",
       "      <td>4</td>\n",
       "      <td>3</td>\n",
       "      <td>13</td>\n",
       "      <td>11</td>\n",
       "    </tr>\n",
       "    <tr>\n",
       "      <th>2</th>\n",
       "      <td>1013</td>\n",
       "      <td>GP</td>\n",
       "      <td>F</td>\n",
       "      <td>16</td>\n",
       "      <td>U</td>\n",
       "      <td>GT3</td>\n",
       "      <td>T</td>\n",
       "      <td>4</td>\n",
       "      <td>4</td>\n",
       "      <td>services</td>\n",
       "      <td>...</td>\n",
       "      <td>no</td>\n",
       "      <td>3</td>\n",
       "      <td>2</td>\n",
       "      <td>3</td>\n",
       "      <td>1</td>\n",
       "      <td>2</td>\n",
       "      <td>2</td>\n",
       "      <td>6</td>\n",
       "      <td>13</td>\n",
       "      <td>14</td>\n",
       "    </tr>\n",
       "    <tr>\n",
       "      <th>3</th>\n",
       "      <td>1014</td>\n",
       "      <td>GP</td>\n",
       "      <td>F</td>\n",
       "      <td>16</td>\n",
       "      <td>U</td>\n",
       "      <td>GT3</td>\n",
       "      <td>T</td>\n",
       "      <td>3</td>\n",
       "      <td>1</td>\n",
       "      <td>services</td>\n",
       "      <td>...</td>\n",
       "      <td>no</td>\n",
       "      <td>4</td>\n",
       "      <td>3</td>\n",
       "      <td>3</td>\n",
       "      <td>1</td>\n",
       "      <td>2</td>\n",
       "      <td>5</td>\n",
       "      <td>4</td>\n",
       "      <td>7</td>\n",
       "      <td>7</td>\n",
       "    </tr>\n",
       "    <tr>\n",
       "      <th>4</th>\n",
       "      <td>1017</td>\n",
       "      <td>GP</td>\n",
       "      <td>F</td>\n",
       "      <td>15</td>\n",
       "      <td>U</td>\n",
       "      <td>LE3</td>\n",
       "      <td>A</td>\n",
       "      <td>3</td>\n",
       "      <td>4</td>\n",
       "      <td>other</td>\n",
       "      <td>...</td>\n",
       "      <td>yes</td>\n",
       "      <td>5</td>\n",
       "      <td>3</td>\n",
       "      <td>2</td>\n",
       "      <td>1</td>\n",
       "      <td>1</td>\n",
       "      <td>1</td>\n",
       "      <td>0</td>\n",
       "      <td>10</td>\n",
       "      <td>11</td>\n",
       "    </tr>\n",
       "  </tbody>\n",
       "</table>\n",
       "<p>5 rows × 33 columns</p>\n",
       "</div>"
      ],
      "text/plain": [
       "   StudentID school sex  age address famsize Pstatus  Medu  Fedu      Mjob  \\\n",
       "0       1000     GP   F   16       U     GT3       T     4     2  services   \n",
       "1       1008     GP   M   19       U     GT3       T     1     2     other   \n",
       "2       1013     GP   F   16       U     GT3       T     4     4  services   \n",
       "3       1014     GP   F   16       U     GT3       T     3     1  services   \n",
       "4       1017     GP   F   15       U     LE3       A     3     4     other   \n",
       "\n",
       "   ... romantic famrel freetime  goout  Dalc  Walc health absences  G1  G2  \n",
       "0  ...       no      4        2      3     1     1      5        2  15  16  \n",
       "1  ...       no      4        5      2     2     2      4        3  13  11  \n",
       "2  ...       no      3        2      3     1     2      2        6  13  14  \n",
       "3  ...       no      4        3      3     1     2      5        4   7   7  \n",
       "4  ...      yes      5        3      2     1     1      1        0  10  11  \n",
       "\n",
       "[5 rows x 33 columns]"
      ]
     },
     "execution_count": 7,
     "metadata": {},
     "output_type": "execute_result"
    }
   ],
   "source": [
    "X_test.head()"
   ]
  },
  {
   "cell_type": "code",
   "execution_count": 9,
   "id": "4a82dd5c",
   "metadata": {},
   "outputs": [
    {
     "data": {
      "text/html": [
       "<div>\n",
       "<style scoped>\n",
       "    .dataframe tbody tr th:only-of-type {\n",
       "        vertical-align: middle;\n",
       "    }\n",
       "\n",
       "    .dataframe tbody tr th {\n",
       "        vertical-align: top;\n",
       "    }\n",
       "\n",
       "    .dataframe thead th {\n",
       "        text-align: right;\n",
       "    }\n",
       "</style>\n",
       "<table border=\"1\" class=\"dataframe\">\n",
       "  <thead>\n",
       "    <tr style=\"text-align: right;\">\n",
       "      <th></th>\n",
       "      <th>StudentID</th>\n",
       "      <th>G3</th>\n",
       "    </tr>\n",
       "  </thead>\n",
       "  <tbody>\n",
       "    <tr>\n",
       "      <th>0</th>\n",
       "      <td>1714</td>\n",
       "      <td>14</td>\n",
       "    </tr>\n",
       "    <tr>\n",
       "      <th>1</th>\n",
       "      <td>1254</td>\n",
       "      <td>15</td>\n",
       "    </tr>\n",
       "    <tr>\n",
       "      <th>2</th>\n",
       "      <td>1639</td>\n",
       "      <td>11</td>\n",
       "    </tr>\n",
       "    <tr>\n",
       "      <th>3</th>\n",
       "      <td>1118</td>\n",
       "      <td>13</td>\n",
       "    </tr>\n",
       "    <tr>\n",
       "      <th>4</th>\n",
       "      <td>1499</td>\n",
       "      <td>0</td>\n",
       "    </tr>\n",
       "  </tbody>\n",
       "</table>\n",
       "</div>"
      ],
      "text/plain": [
       "   StudentID  G3\n",
       "0       1714  14\n",
       "1       1254  15\n",
       "2       1639  11\n",
       "3       1118  13\n",
       "4       1499   0"
      ]
     },
     "execution_count": 9,
     "metadata": {},
     "output_type": "execute_result"
    }
   ],
   "source": [
    "y_train.head()"
   ]
  },
  {
   "cell_type": "markdown",
   "id": "2eafad3e",
   "metadata": {
    "papermill": {
     "duration": 0.00595,
     "end_time": "2022-12-07T04:34:24.133362",
     "exception": false,
     "start_time": "2022-12-07T04:34:24.127412",
     "status": "completed"
    },
    "tags": []
   },
   "source": [
    "# 3. Data Preprocessing"
   ]
  },
  {
   "cell_type": "markdown",
   "id": "543d4177",
   "metadata": {
    "papermill": {
     "duration": 0.006055,
     "end_time": "2022-12-07T04:34:24.145992",
     "exception": false,
     "start_time": "2022-12-07T04:34:24.139937",
     "status": "completed"
    },
    "tags": []
   },
   "source": [
    "## 3.1. EDA(Exploratory Data Analysis)"
   ]
  },
  {
   "cell_type": "code",
   "execution_count": 14,
   "id": "338bdb3a",
   "metadata": {
    "execution": {
     "iopub.execute_input": "2022-12-07T04:34:24.161669Z",
     "iopub.status.busy": "2022-12-07T04:34:24.160807Z",
     "iopub.status.idle": "2022-12-07T04:34:24.363570Z",
     "shell.execute_reply": "2022-12-07T04:34:24.361808Z"
    },
    "papermill": {
     "duration": 0.216117,
     "end_time": "2022-12-07T04:34:24.368509",
     "exception": false,
     "start_time": "2022-12-07T04:34:24.152392",
     "status": "completed"
    },
    "tags": []
   },
   "outputs": [
    {
     "name": "stdout",
     "output_type": "stream",
     "text": [
      "         StudentID         age        Medu        Fedu  traveltime  \\\n",
      "count   678.000000  678.000000  678.000000  678.000000   678.00000   \n",
      "mean   1516.181416   16.719764    2.607670    2.371681     1.50590   \n",
      "std     303.029891    1.239881    1.134682    1.096750     0.73675   \n",
      "min    1001.000000   15.000000    0.000000    0.000000     1.00000   \n",
      "25%    1253.250000   16.000000    2.000000    1.000000     1.00000   \n",
      "50%    1508.000000   17.000000    3.000000    2.000000     1.00000   \n",
      "75%    1780.750000   18.000000    4.000000    3.000000     2.00000   \n",
      "max    2043.000000   22.000000    4.000000    4.000000     4.00000   \n",
      "\n",
      "        studytime    failures      famrel    freetime       goout        Dalc  \\\n",
      "count  678.000000  678.000000  678.000000  678.000000  678.000000  678.000000   \n",
      "mean     1.989676    0.261062    3.933628    3.233038    3.140118    1.480826   \n",
      "std      0.848082    0.664340    0.952346    1.042083    1.165537    0.895789   \n",
      "min      1.000000    0.000000    1.000000    1.000000    1.000000    1.000000   \n",
      "25%      1.000000    0.000000    4.000000    3.000000    2.000000    1.000000   \n",
      "50%      2.000000    0.000000    4.000000    3.000000    3.000000    1.000000   \n",
      "75%      2.000000    0.000000    5.000000    4.000000    4.000000    2.000000   \n",
      "max      4.000000    3.000000    5.000000    5.000000    5.000000    5.000000   \n",
      "\n",
      "             Walc      health    absences         G1          G2  \n",
      "count  678.000000  678.000000  678.000000  678.00000  678.000000  \n",
      "mean     2.293510    3.522124    4.594395   11.20649   11.182891  \n",
      "std      1.287705    1.431430    6.527236    2.90395    3.296146  \n",
      "min      1.000000    1.000000    0.000000    4.00000    0.000000  \n",
      "25%      1.000000    2.000000    0.000000    9.00000    9.000000  \n",
      "50%      2.000000    4.000000    2.000000   11.00000   11.000000  \n",
      "75%      3.000000    5.000000    6.000000   13.00000   13.000000  \n",
      "max      5.000000    5.000000   75.000000   19.00000   19.000000  \n",
      "\n",
      "<class 'pandas.core.frame.DataFrame'>\n",
      "RangeIndex: 678 entries, 0 to 677\n",
      "Data columns (total 33 columns):\n",
      " #   Column      Non-Null Count  Dtype \n",
      "---  ------      --------------  ----- \n",
      " 0   StudentID   678 non-null    int64 \n",
      " 1   school      678 non-null    object\n",
      " 2   sex         678 non-null    object\n",
      " 3   age         678 non-null    int64 \n",
      " 4   address     678 non-null    object\n",
      " 5   famsize     678 non-null    object\n",
      " 6   Pstatus     678 non-null    object\n",
      " 7   Medu        678 non-null    int64 \n",
      " 8   Fedu        678 non-null    int64 \n",
      " 9   Mjob        678 non-null    object\n",
      " 10  Fjob        678 non-null    object\n",
      " 11  reason      678 non-null    object\n",
      " 12  guardian    678 non-null    object\n",
      " 13  traveltime  678 non-null    int64 \n",
      " 14  studytime   678 non-null    int64 \n",
      " 15  failures    678 non-null    int64 \n",
      " 16  schoolsup   678 non-null    object\n",
      " 17  famsup      678 non-null    object\n",
      " 18  paid        678 non-null    object\n",
      " 19  activities  678 non-null    object\n",
      " 20  nursery     678 non-null    object\n",
      " 21  higher      678 non-null    object\n",
      " 22  internet    678 non-null    object\n",
      " 23  romantic    678 non-null    object\n",
      " 24  famrel      678 non-null    int64 \n",
      " 25  freetime    678 non-null    int64 \n",
      " 26  goout       678 non-null    int64 \n",
      " 27  Dalc        678 non-null    int64 \n",
      " 28  Walc        678 non-null    int64 \n",
      " 29  health      678 non-null    int64 \n",
      " 30  absences    678 non-null    int64 \n",
      " 31  G1          678 non-null    int64 \n",
      " 32  G2          678 non-null    int64 \n",
      "dtypes: int64(16), object(17)\n",
      "memory usage: 174.9+ KB\n",
      "None\n",
      "\n",
      "            StudentID       age      Medu      Fedu  traveltime  studytime  \\\n",
      "StudentID    1.000000 -0.025568  0.033835  0.008819   -0.015510   0.052696   \n",
      "age         -0.025568  1.000000 -0.132860 -0.140538    0.055174  -0.028041   \n",
      "Medu         0.033835 -0.132860  1.000000  0.637230   -0.246363   0.081743   \n",
      "Fedu         0.008819 -0.140538  0.637230  1.000000   -0.198317   0.008896   \n",
      "traveltime  -0.015510  0.055174 -0.246363 -0.198317    1.000000  -0.093282   \n",
      "studytime    0.052696 -0.028041  0.081743  0.008896   -0.093282   1.000000   \n",
      "failures    -0.048207  0.259307 -0.189205 -0.186079    0.103983  -0.157755   \n",
      "famrel       0.013933  0.010495  0.030544  0.012340    0.001612   0.041214   \n",
      "freetime     0.028179  0.032327 -0.028747 -0.059096   -0.009489  -0.124297   \n",
      "goout       -0.065217  0.117159 -0.011983 -0.001513    0.032579  -0.071757   \n",
      "Dalc        -0.040965  0.109528 -0.000146 -0.001756    0.107602  -0.170389   \n",
      "Walc        -0.064961  0.085824 -0.005991  0.059653    0.036317  -0.223099   \n",
      "health      -0.014153 -0.056425 -0.011018  0.070966   -0.042143  -0.039356   \n",
      "absences    -0.038585  0.132313  0.079398  0.055754   -0.030064  -0.099487   \n",
      "G1           0.062156 -0.106158  0.254589  0.208222   -0.168338   0.207787   \n",
      "G2           0.073663 -0.109604  0.253413  0.203855   -0.175014   0.177164   \n",
      "\n",
      "            failures    famrel  freetime     goout      Dalc      Walc  \\\n",
      "StudentID  -0.048207  0.013933  0.028179 -0.065217 -0.040965 -0.064961   \n",
      "age         0.259307  0.010495  0.032327  0.117159  0.109528  0.085824   \n",
      "Medu       -0.189205  0.030544 -0.028747 -0.011983 -0.000146 -0.005991   \n",
      "Fedu       -0.186079  0.012340 -0.059096 -0.001513 -0.001756  0.059653   \n",
      "traveltime  0.103983  0.001612 -0.009489  0.032579  0.107602  0.036317   \n",
      "studytime  -0.157755  0.041214 -0.124297 -0.071757 -0.170389 -0.223099   \n",
      "failures    1.000000 -0.077633  0.121088  0.065239  0.101502  0.093323   \n",
      "famrel     -0.077633  1.000000  0.098958  0.057628 -0.128756 -0.114175   \n",
      "freetime    0.121088  0.098958  1.000000  0.297785  0.091823  0.096454   \n",
      "goout       0.065239  0.057628  0.297785  1.000000  0.238133  0.359336   \n",
      "Dalc        0.101502 -0.128756  0.091823  0.238133  1.000000  0.647071   \n",
      "Walc        0.093323 -0.114175  0.096454  0.359336  0.647071  1.000000   \n",
      "health      0.030420  0.106724  0.055953 -0.009386  0.063113  0.093836   \n",
      "absences    0.078957 -0.050911 -0.036030  0.038353  0.131170  0.135092   \n",
      "G1         -0.374059  0.036475 -0.075963 -0.145594 -0.147247 -0.118538   \n",
      "G2         -0.369905  0.034459 -0.090693 -0.124717 -0.119374 -0.097580   \n",
      "\n",
      "              health  absences        G1        G2  \n",
      "StudentID  -0.014153 -0.038585  0.062156  0.073663  \n",
      "age        -0.056425  0.132313 -0.106158 -0.109604  \n",
      "Medu       -0.011018  0.079398  0.254589  0.253413  \n",
      "Fedu        0.070966  0.055754  0.208222  0.203855  \n",
      "traveltime -0.042143 -0.030064 -0.168338 -0.175014  \n",
      "studytime  -0.039356 -0.099487  0.207787  0.177164  \n",
      "failures    0.030420  0.078957 -0.374059 -0.369905  \n",
      "famrel      0.106724 -0.050911  0.036475  0.034459  \n",
      "freetime    0.055953 -0.036030 -0.075963 -0.090693  \n",
      "goout      -0.009386  0.038353 -0.145594 -0.124717  \n",
      "Dalc        0.063113  0.131170 -0.147247 -0.119374  \n",
      "Walc        0.093836  0.135092 -0.118538 -0.097580  \n",
      "health      1.000000 -0.027416 -0.041255 -0.074742  \n",
      "absences   -0.027416  1.000000 -0.070308 -0.071038  \n",
      "G1         -0.041255 -0.070308  1.000000  0.862851  \n",
      "G2         -0.074742 -0.071038  0.862851  1.000000  \n",
      "\n",
      "Index(['StudentID', 'school', 'sex', 'age', 'address', 'famsize', 'Pstatus',\n",
      "       'Medu', 'Fedu', 'Mjob', 'Fjob', 'reason', 'guardian', 'traveltime',\n",
      "       'studytime', 'failures', 'schoolsup', 'famsup', 'paid', 'activities',\n",
      "       'nursery', 'higher', 'internet', 'romantic', 'famrel', 'freetime',\n",
      "       'goout', 'Dalc', 'Walc', 'health', 'absences', 'G1', 'G2'],\n",
      "      dtype='object')\n",
      "\n",
      "*  *  *  *  *  *  *  *  *  *  *  *  *  *  *  *  *  *  *  *  *  *  *  *  *  *  *  *  *  *  *  *  *  *  *  *  *  *  *  *  \n",
      "         StudentID         age        Medu        Fedu  traveltime  \\\n",
      "count   366.000000  366.000000  366.000000  366.000000  366.000000   \n",
      "mean   1531.352459   16.737705    2.595628    2.418033    1.554645   \n",
      "std     298.868558    1.241762    1.108069    1.106693    0.722263   \n",
      "min    1000.000000   15.000000    0.000000    0.000000    1.000000   \n",
      "25%    1279.500000   16.000000    2.000000    1.250000    1.000000   \n",
      "50%    1535.500000   17.000000    3.000000    2.000000    1.000000   \n",
      "75%    1783.750000   18.000000    4.000000    3.000000    2.000000   \n",
      "max    2037.000000   22.000000    4.000000    4.000000    4.000000   \n",
      "\n",
      "        studytime    failures      famrel    freetime       goout        Dalc  \\\n",
      "count  366.000000  366.000000  366.000000  366.000000  366.000000  366.000000   \n",
      "mean     1.934426    0.270492    3.939891    3.142077    3.185792    1.519126   \n",
      "std      0.808222    0.641534    0.898519    1.010374    1.129148    0.941241   \n",
      "min      1.000000    0.000000    1.000000    1.000000    1.000000    1.000000   \n",
      "25%      1.000000    0.000000    4.000000    3.000000    2.000000    1.000000   \n",
      "50%      2.000000    0.000000    4.000000    3.000000    3.000000    1.000000   \n",
      "75%      2.000000    0.000000    4.750000    4.000000    4.000000    2.000000   \n",
      "max      4.000000    3.000000    5.000000    5.000000    5.000000    5.000000   \n",
      "\n",
      "             Walc      health    absences          G1          G2  \n",
      "count  366.000000  366.000000  366.000000  366.000000  366.000000  \n",
      "mean     2.267760    3.581967    4.139344   11.226776   11.363388  \n",
      "std      1.281865    1.413284    5.571427    3.129260    3.265708  \n",
      "min      1.000000    1.000000    0.000000    0.000000    0.000000  \n",
      "25%      1.000000    3.000000    0.000000    9.000000    9.000000  \n",
      "50%      2.000000    4.000000    2.000000   11.000000   11.000000  \n",
      "75%      3.000000    5.000000    6.000000   13.750000   13.000000  \n",
      "max      5.000000    5.000000   40.000000   19.000000   19.000000  \n",
      "\n",
      "<class 'pandas.core.frame.DataFrame'>\n",
      "RangeIndex: 366 entries, 0 to 365\n",
      "Data columns (total 33 columns):\n",
      " #   Column      Non-Null Count  Dtype \n",
      "---  ------      --------------  ----- \n",
      " 0   StudentID   366 non-null    int64 \n",
      " 1   school      366 non-null    object\n",
      " 2   sex         366 non-null    object\n",
      " 3   age         366 non-null    int64 \n",
      " 4   address     366 non-null    object\n",
      " 5   famsize     366 non-null    object\n",
      " 6   Pstatus     366 non-null    object\n",
      " 7   Medu        366 non-null    int64 \n",
      " 8   Fedu        366 non-null    int64 \n",
      " 9   Mjob        366 non-null    object\n",
      " 10  Fjob        366 non-null    object\n",
      " 11  reason      366 non-null    object\n",
      " 12  guardian    366 non-null    object\n",
      " 13  traveltime  366 non-null    int64 \n",
      " 14  studytime   366 non-null    int64 \n",
      " 15  failures    366 non-null    int64 \n",
      " 16  schoolsup   366 non-null    object\n",
      " 17  famsup      366 non-null    object\n",
      " 18  paid        366 non-null    object\n",
      " 19  activities  366 non-null    object\n",
      " 20  nursery     366 non-null    object\n",
      " 21  higher      366 non-null    object\n",
      " 22  internet    366 non-null    object\n",
      " 23  romantic    366 non-null    object\n",
      " 24  famrel      366 non-null    int64 \n",
      " 25  freetime    366 non-null    int64 \n",
      " 26  goout       366 non-null    int64 \n",
      " 27  Dalc        366 non-null    int64 \n",
      " 28  Walc        366 non-null    int64 \n",
      " 29  health      366 non-null    int64 \n",
      " 30  absences    366 non-null    int64 \n",
      " 31  G1          366 non-null    int64 \n",
      " 32  G2          366 non-null    int64 \n",
      "dtypes: int64(16), object(17)\n",
      "memory usage: 94.5+ KB\n",
      "None\n",
      "\n",
      "            StudentID       age      Medu      Fedu  traveltime  studytime  \\\n",
      "StudentID    1.000000 -0.172096  0.070090  0.032438   -0.099335  -0.037991   \n",
      "age         -0.172096  1.000000 -0.125083 -0.135304    0.037408   0.031953   \n",
      "Medu         0.070090 -0.125083  1.000000  0.652080   -0.222215   0.107975   \n",
      "Fedu         0.032438 -0.135304  0.652080  1.000000   -0.194893   0.082802   \n",
      "traveltime  -0.099335  0.037408 -0.222215 -0.194893    1.000000  -0.054858   \n",
      "studytime   -0.037991  0.031953  0.107975  0.082802   -0.054858   1.000000   \n",
      "failures    -0.065000  0.326605 -0.184870 -0.202148    0.053748  -0.140068   \n",
      "famrel      -0.015388  0.000564 -0.016225  0.014318   -0.041363  -0.046942   \n",
      "freetime    -0.004421 -0.053196  0.058798  0.120701    0.000595  -0.038885   \n",
      "goout        0.018673  0.120826  0.099626  0.088956    0.081580  -0.073675   \n",
      "Dalc        -0.003292  0.175420  0.004809  0.001509    0.111300  -0.138803   \n",
      "Walc         0.049469  0.121696 -0.074013 -0.054012    0.176499  -0.242162   \n",
      "health      -0.047085  0.021651 -0.017265 -0.035105   -0.005742  -0.108013   \n",
      "absences    -0.008225  0.200925  0.015809  0.011411   -0.002919  -0.025345   \n",
      "G1          -0.002895 -0.155275  0.176644  0.175076   -0.038833   0.219299   \n",
      "G2          -0.028168 -0.138576  0.170186  0.142061   -0.076392   0.197970   \n",
      "\n",
      "            failures    famrel  freetime     goout      Dalc      Walc  \\\n",
      "StudentID  -0.065000 -0.015388 -0.004421  0.018673 -0.003292  0.049469   \n",
      "age         0.326605  0.000564 -0.053196  0.120826  0.175420  0.121696   \n",
      "Medu       -0.184870 -0.016225  0.058798  0.099626  0.004809 -0.074013   \n",
      "Fedu       -0.202148  0.014318  0.120701  0.088956  0.001509 -0.054012   \n",
      "traveltime  0.053748 -0.041363  0.000595  0.081580  0.111300  0.176499   \n",
      "studytime  -0.140068 -0.046942 -0.038885 -0.073675 -0.138803 -0.242162   \n",
      "failures    1.000000 -0.004987  0.067351  0.093065  0.143405  0.134900   \n",
      "famrel     -0.004987  1.000000  0.214647  0.127155  0.020800 -0.073999   \n",
      "freetime    0.067351  0.214647  1.000000  0.377842  0.244890  0.194774   \n",
      "goout       0.093065  0.127155  0.377842  1.000000  0.280209  0.478496   \n",
      "Dalc        0.143405  0.020800  0.244890  0.280209  1.000000  0.595215   \n",
      "Walc        0.134900 -0.073999  0.194774  0.478496  0.595215  1.000000   \n",
      "health      0.082751  0.098820  0.133802 -0.023304  0.068844  0.131520   \n",
      "absences    0.148861 -0.088077 -0.028348  0.098652  0.140812  0.150127   \n",
      "G1         -0.375915  0.037991 -0.009352 -0.022812 -0.157281 -0.183881   \n",
      "G2         -0.392280  0.056950 -0.023993 -0.078541 -0.155127 -0.184960   \n",
      "\n",
      "              health  absences        G1        G2  \n",
      "StudentID  -0.047085 -0.008225 -0.002895 -0.028168  \n",
      "age         0.021651  0.200925 -0.155275 -0.138576  \n",
      "Medu       -0.017265  0.015809  0.176644  0.170186  \n",
      "Fedu       -0.035105  0.011411  0.175076  0.142061  \n",
      "traveltime -0.005742 -0.002919 -0.038833 -0.076392  \n",
      "studytime  -0.108013 -0.025345  0.219299  0.197970  \n",
      "failures    0.082751  0.148861 -0.375915 -0.392280  \n",
      "famrel      0.098820 -0.088077  0.037991  0.056950  \n",
      "freetime    0.133802 -0.028348 -0.009352 -0.023993  \n",
      "goout      -0.023304  0.098652 -0.022812 -0.078541  \n",
      "Dalc        0.068844  0.140812 -0.157281 -0.155127  \n",
      "Walc        0.131520  0.150127 -0.183881 -0.184960  \n",
      "health      1.000000 -0.025637 -0.094351 -0.114805  \n",
      "absences   -0.025637  1.000000 -0.138533 -0.127470  \n",
      "G1         -0.094351 -0.138533  1.000000  0.854106  \n",
      "G2         -0.114805 -0.127470  0.854106  1.000000  \n",
      "\n",
      "Index(['StudentID', 'school', 'sex', 'age', 'address', 'famsize', 'Pstatus',\n",
      "       'Medu', 'Fedu', 'Mjob', 'Fjob', 'reason', 'guardian', 'traveltime',\n",
      "       'studytime', 'failures', 'schoolsup', 'famsup', 'paid', 'activities',\n",
      "       'nursery', 'higher', 'internet', 'romantic', 'famrel', 'freetime',\n",
      "       'goout', 'Dalc', 'Walc', 'health', 'absences', 'G1', 'G2'],\n",
      "      dtype='object')\n",
      "\n",
      "*  *  *  *  *  *  *  *  *  *  *  *  *  *  *  *  *  *  *  *  *  *  *  *  *  *  *  *  *  *  *  *  *  *  *  *  *  *  *  *  \n",
      "         StudentID          G3\n",
      "count   678.000000  678.000000\n",
      "mean   1516.181416   11.308260\n",
      "std     303.029891    3.833417\n",
      "min    1001.000000    0.000000\n",
      "25%    1253.250000   10.000000\n",
      "50%    1508.000000   11.000000\n",
      "75%    1780.750000   14.000000\n",
      "max    2043.000000   20.000000\n",
      "\n",
      "<class 'pandas.core.frame.DataFrame'>\n",
      "RangeIndex: 678 entries, 0 to 677\n",
      "Data columns (total 2 columns):\n",
      " #   Column     Non-Null Count  Dtype\n",
      "---  ------     --------------  -----\n",
      " 0   StudentID  678 non-null    int64\n",
      " 1   G3         678 non-null    int64\n",
      "dtypes: int64(2)\n",
      "memory usage: 10.7 KB\n",
      "None\n",
      "\n",
      "           StudentID        G3\n",
      "StudentID   1.000000  0.079645\n",
      "G3          0.079645  1.000000\n",
      "\n",
      "Index(['StudentID', 'G3'], dtype='object')\n",
      "\n",
      "*  *  *  *  *  *  *  *  *  *  *  *  *  *  *  *  *  *  *  *  *  *  *  *  *  *  *  *  *  *  *  *  *  *  *  *  *  *  *  *  \n"
     ]
    }
   ],
   "source": [
    "data = [X_train, X_test, y_train]\n",
    "for datum in data:\n",
    "    print(datum.describe())\n",
    "    print()\n",
    "    print(datum.info())\n",
    "    print()\n",
    "    print(datum.corr())\n",
    "    print()\n",
    "    print(datum.columns)\n",
    "    print()\n",
    "    print('*  ' * 40)"
   ]
  },
  {
   "cell_type": "code",
   "execution_count": 17,
   "id": "8e1c05e0",
   "metadata": {
    "execution": {
     "iopub.execute_input": "2022-12-07T04:34:24.387233Z",
     "iopub.status.busy": "2022-12-07T04:34:24.386053Z",
     "iopub.status.idle": "2022-12-07T04:34:24.393514Z",
     "shell.execute_reply": "2022-12-07T04:34:24.392268Z"
    },
    "papermill": {
     "duration": 0.019967,
     "end_time": "2022-12-07T04:34:24.396276",
     "exception": false,
     "start_time": "2022-12-07T04:34:24.376309",
     "status": "completed"
    },
    "tags": []
   },
   "outputs": [],
   "source": [
    "del_cols = ['StudentID']\n",
    "num_cols = ['age', 'traveltime', 'studytime','failures', 'absences', 'G1', 'G2']\n",
    "cat_cols = ['school', 'sex', 'address', 'famsize', 'Pstatus', 'Medu', 'Fedu', 'Mjob', 'Fjob', 'reason', 'guardian', 'schoolsup', 'famsup',  'paid', 'activities', 'nursery', 'higher', 'internet', 'romantic', 'famrel', 'freetime', 'goout', 'Dalc', 'Walc', 'health']\n",
    "y_col = ['G3']\n",
    "X_cols = num_cols + cat_cols"
   ]
  },
  {
   "cell_type": "markdown",
   "id": "cabb2f82",
   "metadata": {},
   "source": [
    "## 3.2 Missing Values"
   ]
  },
  {
   "cell_type": "code",
   "execution_count": 18,
   "id": "f841908f",
   "metadata": {},
   "outputs": [
    {
     "name": "stdout",
     "output_type": "stream",
     "text": [
      "StudentID     0\n",
      "school        0\n",
      "sex           0\n",
      "age           0\n",
      "address       0\n",
      "famsize       0\n",
      "Pstatus       0\n",
      "Medu          0\n",
      "Fedu          0\n",
      "Mjob          0\n",
      "Fjob          0\n",
      "reason        0\n",
      "guardian      0\n",
      "traveltime    0\n",
      "studytime     0\n",
      "failures      0\n",
      "schoolsup     0\n",
      "famsup        0\n",
      "paid          0\n",
      "activities    0\n",
      "nursery       0\n",
      "higher        0\n",
      "internet      0\n",
      "romantic      0\n",
      "famrel        0\n",
      "freetime      0\n",
      "goout         0\n",
      "Dalc          0\n",
      "Walc          0\n",
      "health        0\n",
      "absences      0\n",
      "G1            0\n",
      "G2            0\n",
      "dtype: int64\n",
      "*  *  *  *  *  *  *  *  *  *  *  *  *  *  *  *  *  *  *  *  *  *  *  *  *  *  *  *  *  *  *  *  *  *  *  *  *  *  *  *  \n",
      "\n",
      "StudentID     0\n",
      "school        0\n",
      "sex           0\n",
      "age           0\n",
      "address       0\n",
      "famsize       0\n",
      "Pstatus       0\n",
      "Medu          0\n",
      "Fedu          0\n",
      "Mjob          0\n",
      "Fjob          0\n",
      "reason        0\n",
      "guardian      0\n",
      "traveltime    0\n",
      "studytime     0\n",
      "failures      0\n",
      "schoolsup     0\n",
      "famsup        0\n",
      "paid          0\n",
      "activities    0\n",
      "nursery       0\n",
      "higher        0\n",
      "internet      0\n",
      "romantic      0\n",
      "famrel        0\n",
      "freetime      0\n",
      "goout         0\n",
      "Dalc          0\n",
      "Walc          0\n",
      "health        0\n",
      "absences      0\n",
      "G1            0\n",
      "G2            0\n",
      "dtype: int64\n",
      "*  *  *  *  *  *  *  *  *  *  *  *  *  *  *  *  *  *  *  *  *  *  *  *  *  *  *  *  *  *  *  *  *  *  *  *  *  *  *  *  \n",
      "\n",
      "StudentID    0\n",
      "G3           0\n",
      "dtype: int64\n",
      "*  *  *  *  *  *  *  *  *  *  *  *  *  *  *  *  *  *  *  *  *  *  *  *  *  *  *  *  *  *  *  *  *  *  *  *  *  *  *  *  \n",
      "\n"
     ]
    }
   ],
   "source": [
    "for datum in data:\n",
    "    print(datum.isnull().sum())\n",
    "    print('*  ' * 40)\n",
    "    print()"
   ]
  },
  {
   "cell_type": "markdown",
   "id": "217d6487",
   "metadata": {
    "papermill": {
     "duration": 0.006605,
     "end_time": "2022-12-07T04:34:24.411775",
     "exception": false,
     "start_time": "2022-12-07T04:34:24.405170",
     "status": "completed"
    },
    "tags": []
   },
   "source": [
    "## 3.3 Encoding"
   ]
  },
  {
   "cell_type": "code",
   "execution_count": 19,
   "id": "cfcdf23b",
   "metadata": {
    "execution": {
     "iopub.execute_input": "2022-12-07T04:34:24.429080Z",
     "iopub.status.busy": "2022-12-07T04:34:24.428516Z",
     "iopub.status.idle": "2022-12-07T04:34:24.476610Z",
     "shell.execute_reply": "2022-12-07T04:34:24.474665Z"
    },
    "papermill": {
     "duration": 0.061134,
     "end_time": "2022-12-07T04:34:24.480341",
     "exception": false,
     "start_time": "2022-12-07T04:34:24.419207",
     "status": "completed"
    },
    "tags": []
   },
   "outputs": [
    {
     "name": "stdout",
     "output_type": "stream",
     "text": [
      "['GP' 'MS']\n",
      "['F' 'M']\n",
      "['U' 'R']\n",
      "['GT3' 'LE3']\n",
      "['T' 'A']\n",
      "[4 3 1 2 0]\n",
      "[3 4 2 0 1]\n",
      "['other' 'health' 'services' 'at_home' 'teacher']\n",
      "['other' 'teacher' 'services' 'at_home' 'health']\n",
      "['reputation' 'other' 'course' 'home']\n",
      "['father' 'mother' 'other']\n",
      "['no' 'yes']\n",
      "['yes' 'no']\n",
      "['yes' 'no']\n",
      "['no' 'yes']\n",
      "['yes' 'no']\n",
      "['yes' 'no']\n",
      "['yes' 'no']\n",
      "['no' 'yes']\n",
      "[4 2 5 3 1]\n",
      "[3 4 5 2 1]\n",
      "[3 4 2 5 1]\n",
      "[1 2 3 5 4]\n",
      "[1 3 2 4 5]\n",
      "[3 4 5 1 2]\n"
     ]
    }
   ],
   "source": [
    "X = pd.concat([X_train, X_test])\n",
    "for col in cat_cols:\n",
    "    print(X[col].unique())\n",
    "\n",
    "le = LabelEncoder()\n",
    "\n",
    "for col in cat_cols:\n",
    "    le.fit(X[col])\n",
    "    X_train[col] = le.transform(X_train[col])\n",
    "    X_test[col] = le.transform(X_test[col])"
   ]
  },
  {
   "cell_type": "markdown",
   "id": "b88872a4",
   "metadata": {
    "papermill": {
     "duration": 0.006961,
     "end_time": "2022-12-07T04:34:24.494805",
     "exception": false,
     "start_time": "2022-12-07T04:34:24.487844",
     "status": "completed"
    },
    "tags": []
   },
   "source": [
    "# 4. Modeling"
   ]
  },
  {
   "cell_type": "markdown",
   "id": "153e6814",
   "metadata": {
    "papermill": {
     "duration": 0.006993,
     "end_time": "2022-12-07T04:34:24.509137",
     "exception": false,
     "start_time": "2022-12-07T04:34:24.502144",
     "status": "completed"
    },
    "tags": []
   },
   "source": [
    "## 4.1. Seperate Data Set"
   ]
  },
  {
   "cell_type": "code",
   "execution_count": 20,
   "id": "a2ecf3ec",
   "metadata": {
    "execution": {
     "iopub.execute_input": "2022-12-07T04:34:24.526222Z",
     "iopub.status.busy": "2022-12-07T04:34:24.525684Z",
     "iopub.status.idle": "2022-12-07T04:34:24.539830Z",
     "shell.execute_reply": "2022-12-07T04:34:24.538695Z"
    },
    "papermill": {
     "duration": 0.026043,
     "end_time": "2022-12-07T04:34:24.542753",
     "exception": false,
     "start_time": "2022-12-07T04:34:24.516710",
     "status": "completed"
    },
    "tags": []
   },
   "outputs": [],
   "source": [
    "X = X_train[X_cols]\n",
    "X_test_fin = X_test[X_cols]\n",
    "y = y_train[y_col]\n",
    "\n",
    "X_train, X_val, y_train, y_val = train_test_split(X, y, test_size=0.33, random_state=42)"
   ]
  },
  {
   "cell_type": "markdown",
   "id": "d4a401ae",
   "metadata": {
    "papermill": {
     "duration": 0.006753,
     "end_time": "2022-12-07T04:34:24.556746",
     "exception": false,
     "start_time": "2022-12-07T04:34:24.549993",
     "status": "completed"
    },
    "tags": []
   },
   "source": [
    "## 4.2. Data Scaling"
   ]
  },
  {
   "cell_type": "code",
   "execution_count": 21,
   "id": "b4a40871",
   "metadata": {
    "execution": {
     "iopub.execute_input": "2022-12-07T04:34:24.574006Z",
     "iopub.status.busy": "2022-12-07T04:34:24.572725Z",
     "iopub.status.idle": "2022-12-07T04:34:24.605930Z",
     "shell.execute_reply": "2022-12-07T04:34:24.604771Z"
    },
    "papermill": {
     "duration": 0.045146,
     "end_time": "2022-12-07T04:34:24.609179",
     "exception": false,
     "start_time": "2022-12-07T04:34:24.564033",
     "status": "completed"
    },
    "tags": []
   },
   "outputs": [
    {
     "name": "stderr",
     "output_type": "stream",
     "text": [
      "/var/folders/pf/3nx9qgs16f73_h0z28r_08780000gn/T/ipykernel_1943/192936522.py:4: SettingWithCopyWarning: \n",
      "A value is trying to be set on a copy of a slice from a DataFrame.\n",
      "Try using .loc[row_indexer,col_indexer] = value instead\n",
      "\n",
      "See the caveats in the documentation: https://pandas.pydata.org/pandas-docs/stable/user_guide/indexing.html#returning-a-view-versus-a-copy\n",
      "  X_test_fin[num_cols] = scaler.transform(X_test_fin[num_cols])\n"
     ]
    }
   ],
   "source": [
    "scaler = StandardScaler()\n",
    "scaler.fit(X_train[num_cols])\n",
    "X_train[num_cols] = scaler.transform(X_train[num_cols]) \n",
    "X_test_fin[num_cols] = scaler.transform(X_test_fin[num_cols]) \n",
    "X_val[num_cols] = scaler.transform(X_val[num_cols]) "
   ]
  },
  {
   "cell_type": "markdown",
   "id": "4d450970",
   "metadata": {
    "papermill": {
     "duration": 0.00686,
     "end_time": "2022-12-07T04:34:24.623419",
     "exception": false,
     "start_time": "2022-12-07T04:34:24.616559",
     "status": "completed"
    },
    "tags": []
   },
   "source": [
    "## 4.3. Data Modeling"
   ]
  },
  {
   "cell_type": "code",
   "execution_count": 22,
   "id": "8dd09839",
   "metadata": {
    "execution": {
     "iopub.execute_input": "2022-12-07T04:34:24.640429Z",
     "iopub.status.busy": "2022-12-07T04:34:24.639934Z",
     "iopub.status.idle": "2022-12-07T04:34:25.189718Z",
     "shell.execute_reply": "2022-12-07T04:34:25.188661Z"
    },
    "papermill": {
     "duration": 0.56223,
     "end_time": "2022-12-07T04:34:25.192838",
     "exception": false,
     "start_time": "2022-12-07T04:34:24.630608",
     "status": "completed"
    },
    "tags": []
   },
   "outputs": [],
   "source": [
    "rf1 = RandomForestRegressor(max_depth=2, random_state=0)\n",
    "rf1.fit(X_train, y_train.values.ravel())\n",
    "rf1_pred = rf1.predict(X_val)\n",
    "\n",
    "xgb1 = XGBRegressor(random_state=0)\n",
    "xgb1.fit(X_train, y_train)\n",
    "xgb1_pred = xgb1.predict(X_val)"
   ]
  },
  {
   "cell_type": "markdown",
   "id": "10b58790",
   "metadata": {
    "papermill": {
     "duration": 0.007371,
     "end_time": "2022-12-07T04:34:25.209000",
     "exception": false,
     "start_time": "2022-12-07T04:34:25.201629",
     "status": "completed"
    },
    "tags": []
   },
   "source": [
    "## 4.4. Model Evaluation"
   ]
  },
  {
   "cell_type": "code",
   "execution_count": 23,
   "id": "e3da6bbb",
   "metadata": {
    "execution": {
     "iopub.execute_input": "2022-12-07T04:34:25.225679Z",
     "iopub.status.busy": "2022-12-07T04:34:25.225154Z",
     "iopub.status.idle": "2022-12-07T04:34:25.237513Z",
     "shell.execute_reply": "2022-12-07T04:34:25.236097Z"
    },
    "papermill": {
     "duration": 0.02446,
     "end_time": "2022-12-07T04:34:25.240724",
     "exception": false,
     "start_time": "2022-12-07T04:34:25.216264",
     "status": "completed"
    },
    "tags": []
   },
   "outputs": [
    {
     "name": "stdout",
     "output_type": "stream",
     "text": [
      "튜닝 전 -> random forest score: 0.8137288134470838, xgboost: 0.8065366883847467\n"
     ]
    }
   ],
   "source": [
    "rf1_score = r2_score(y_val, rf1_pred)\n",
    "xgb1_score = r2_score(y_val, xgb1_pred)\n",
    "print(f'튜닝 전 -> random forest score: {rf1_score}, xgboost: {xgb1_score}')"
   ]
  },
  {
   "cell_type": "markdown",
   "id": "34144887",
   "metadata": {
    "papermill": {
     "duration": 0.007004,
     "end_time": "2022-12-07T04:34:25.255277",
     "exception": false,
     "start_time": "2022-12-07T04:34:25.248273",
     "status": "completed"
    },
    "tags": []
   },
   "source": [
    "## 4.5. Hyper-parameter Tuning"
   ]
  },
  {
   "cell_type": "code",
   "execution_count": 10,
   "id": "7f03d43c",
   "metadata": {
    "execution": {
     "iopub.execute_input": "2022-12-07T04:34:25.273318Z",
     "iopub.status.busy": "2022-12-07T04:34:25.272433Z",
     "iopub.status.idle": "2022-12-07T04:51:47.291864Z",
     "shell.execute_reply": "2022-12-07T04:51:47.290799Z"
    },
    "papermill": {
     "duration": 1042.040576,
     "end_time": "2022-12-07T04:51:47.303628",
     "exception": false,
     "start_time": "2022-12-07T04:34:25.263052",
     "status": "completed"
    },
    "tags": []
   },
   "outputs": [
    {
     "name": "stdout",
     "output_type": "stream",
     "text": [
      "{'max_depth': 6, 'min_samples_leaf': 3, 'min_samples_split': 2, 'n_estimators': 500}\n",
      "{'colsample_bytree': 1.0, 'learning_rate': 0.01, 'max_depth': 3, 'n_estimators': 500}\n"
     ]
    }
   ],
   "source": [
    "rf_parameters = {\n",
    "    'max_depth':[2,4,8], \n",
    "    'min_samples_leaf':[1, 2, 3],\n",
    "    'min_samples_split': [2,4,6],\n",
    "    'n_estimators':[100,500,1000]\n",
    "    }\n",
    "rf_cv = GridSearchCV(rf1, rf_parameters, scoring = 'r2', cv=5)\n",
    "rf_cv.fit(X_train, y_train.values.ravel())\n",
    "print(rf_cv.best_params_)\n",
    "\n",
    "xgb1_parameters = {\n",
    "    'colsample_bytree':[0.6, 0.8, 1.0], \n",
    "    'learning_rate':[0.1, 0.2, 0.01],\n",
    "    'max_depth': [3,6,9],\n",
    "    'n_estimators':[100,500,1000]\n",
    "    }\n",
    "xgb_cv = GridSearchCV(xgb1, xgb1_parameters, scoring = 'r2', cv=5)\n",
    "xgb_cv.fit(X_train, y_train)\n",
    "print(xgb_cv.best_params_)"
   ]
  },
  {
   "cell_type": "markdown",
   "id": "6f1b7e1a",
   "metadata": {
    "papermill": {
     "duration": 0.007507,
     "end_time": "2022-12-07T04:51:47.318527",
     "exception": false,
     "start_time": "2022-12-07T04:51:47.311020",
     "status": "completed"
    },
    "tags": []
   },
   "source": [
    "## 4.6. Model Selections"
   ]
  },
  {
   "cell_type": "code",
   "execution_count": 11,
   "id": "a71513b8",
   "metadata": {
    "execution": {
     "iopub.execute_input": "2022-12-07T04:51:47.336271Z",
     "iopub.status.busy": "2022-12-07T04:51:47.335742Z",
     "iopub.status.idle": "2022-12-07T04:51:49.806721Z",
     "shell.execute_reply": "2022-12-07T04:51:49.805587Z"
    },
    "papermill": {
     "duration": 2.483917,
     "end_time": "2022-12-07T04:51:49.810065",
     "exception": false,
     "start_time": "2022-12-07T04:51:47.326148",
     "status": "completed"
    },
    "tags": []
   },
   "outputs": [
    {
     "name": "stdout",
     "output_type": "stream",
     "text": [
      "튜닝 후 -> random forest score: 0.8571565086819269, xgboost: 0.8449625507322935\n"
     ]
    }
   ],
   "source": [
    "rf2 = RandomForestRegressor(max_depth=6, min_samples_leaf=3, min_samples_split=2, n_estimators=500, random_state=0)\n",
    "rf2.fit(X_train, y_train.values.ravel())\n",
    "rf2_pred = rf2.predict(X_val)\n",
    "\n",
    "xgb2 = XGBRegressor(colsample_bytree=1, learning_rate=0.01, max_depth=3, n_estimators=500, random_state=0)\n",
    "xgb2.fit(X_train, y_train)\n",
    "xgb2_pred = xgb2.predict(X_val)\n",
    "\n",
    "rf2_score = r2_score(y_val, rf2_pred)\n",
    "xgb2_score = r2_score(y_val, xgb2_pred)\n",
    "print(f'튜닝 후 -> random forest score: {rf2_score}, xgboost: {xgb2_score}')"
   ]
  },
  {
   "cell_type": "markdown",
   "id": "c36c2a28",
   "metadata": {
    "papermill": {
     "duration": 0.007231,
     "end_time": "2022-12-07T04:51:49.825702",
     "exception": false,
     "start_time": "2022-12-07T04:51:49.818471",
     "status": "completed"
    },
    "tags": []
   },
   "source": [
    "# 5. Conclusion"
   ]
  },
  {
   "cell_type": "code",
   "execution_count": 12,
   "id": "7913a029",
   "metadata": {
    "execution": {
     "iopub.execute_input": "2022-12-07T04:51:49.842752Z",
     "iopub.status.busy": "2022-12-07T04:51:49.842275Z",
     "iopub.status.idle": "2022-12-07T04:51:49.928194Z",
     "shell.execute_reply": "2022-12-07T04:51:49.926057Z"
    },
    "papermill": {
     "duration": 0.098089,
     "end_time": "2022-12-07T04:51:49.931315",
     "exception": false,
     "start_time": "2022-12-07T04:51:49.833226",
     "status": "completed"
    },
    "tags": []
   },
   "outputs": [
    {
     "name": "stdout",
     "output_type": "stream",
     "text": [
      "   StudentID         G3\n",
      "0       1000  16.186060\n",
      "1       1008  11.218828\n",
      "2       1013  14.249947\n",
      "3       1014   7.028670\n",
      "4       1017  10.648040\n",
      "5       1018  14.298236\n",
      "6       1021  17.765441\n",
      "7       1024  12.978773\n",
      "8       1025  13.043516\n",
      "9       1031  12.650214\n",
      "R2 score:  0.8249\n"
     ]
    }
   ],
   "source": [
    "rf2_pred_X_test = rf2.predict(X_test_fin)\n",
    "result = pd.DataFrame({'StudentID':X_test.StudentID, 'G3':rf2_pred_X_test})\n",
    "print(result.head(10))\n",
    "result_score = r2_score(y_test.iloc[:,1], rf2_pred_X_test)\n",
    "print('R2 score: ',result_score.round(4))\n",
    "result.to_csv('1234.csv',index=False)"
   ]
  },
  {
   "cell_type": "code",
   "execution_count": null,
   "id": "8b0c41e5",
   "metadata": {
    "papermill": {
     "duration": 0.007129,
     "end_time": "2022-12-07T04:51:49.946179",
     "exception": false,
     "start_time": "2022-12-07T04:51:49.939050",
     "status": "completed"
    },
    "tags": []
   },
   "outputs": [],
   "source": []
  }
 ],
 "metadata": {
  "kernelspec": {
   "display_name": "Python 3 (ipykernel)",
   "language": "python",
   "name": "python3"
  },
  "language_info": {
   "codemirror_mode": {
    "name": "ipython",
    "version": 3
   },
   "file_extension": ".py",
   "mimetype": "text/x-python",
   "name": "python",
   "nbconvert_exporter": "python",
   "pygments_lexer": "ipython3",
   "version": "3.9.7"
  },
  "papermill": {
   "default_parameters": {},
   "duration": 1058.847334,
   "end_time": "2022-12-07T04:51:51.082051",
   "environment_variables": {},
   "exception": null,
   "input_path": "__notebook__.ipynb",
   "output_path": "__notebook__.ipynb",
   "parameters": {},
   "start_time": "2022-12-07T04:34:12.234717",
   "version": "2.3.4"
  }
 },
 "nbformat": 4,
 "nbformat_minor": 5
}
