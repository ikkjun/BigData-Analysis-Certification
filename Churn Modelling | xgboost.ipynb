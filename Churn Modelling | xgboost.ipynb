{
 "cells": [
  {
   "cell_type": "markdown",
   "metadata": {
    "id": "CofJD5hCe4ed"
   },
   "source": [
    "# 1. Package Import"
   ]
  },
  {
   "cell_type": "code",
   "execution_count": 18,
   "metadata": {
    "_cell_guid": "b1076dfc-b9ad-4769-8c92-a6c4dae69d19",
    "_uuid": "8f2839f25d086af736a60e9eeb907d3b93b6e0e5",
    "execution": {
     "iopub.execute_input": "2022-12-05T03:49:53.465792Z",
     "iopub.status.busy": "2022-12-05T03:49:53.465303Z",
     "iopub.status.idle": "2022-12-05T03:49:53.478428Z",
     "shell.execute_reply": "2022-12-05T03:49:53.476909Z",
     "shell.execute_reply.started": "2022-12-05T03:49:53.465754Z"
    },
    "id": "jIpIpKh7e4eh"
   },
   "outputs": [],
   "source": [
    "import numpy as np \n",
    "import pandas as pd \n",
    "from sklearn.ensemble import RandomForestClassifier\n",
    "from sklearn.metrics import f1_score\n",
    "from sklearn.model_selection import GridSearchCV, train_test_split\n",
    "from sklearn.preprocessing import OneHotEncoder, StandardScaler\n",
    "from sklearn.impute import SimpleImputer\n",
    "from xgboost import XGBClassifier"
   ]
  },
  {
   "cell_type": "markdown",
   "metadata": {
    "id": "1Qu9dEnSe4ek"
   },
   "source": [
    "# 2. Data Load"
   ]
  },
  {
   "cell_type": "code",
   "execution_count": 19,
   "metadata": {
    "execution": {
     "iopub.execute_input": "2022-12-05T04:34:32.059639Z",
     "iopub.status.busy": "2022-12-05T04:34:32.059164Z",
     "iopub.status.idle": "2022-12-05T04:34:32.088001Z",
     "shell.execute_reply": "2022-12-05T04:34:32.086583Z",
     "shell.execute_reply.started": "2022-12-05T04:34:32.059605Z"
    },
    "id": "wO3SURQIe4ek"
   },
   "outputs": [],
   "source": [
    "df = pd.read_csv(\"Churn_Modelling.csv\", sep=',')"
   ]
  },
  {
   "cell_type": "markdown",
   "metadata": {
    "id": "2oP-IQVfe4el"
   },
   "source": [
    "# 3. Data Preprocessing"
   ]
  },
  {
   "cell_type": "markdown",
   "metadata": {
    "id": "sM_CVab0e4el"
   },
   "source": [
    "## 3.1. EDA"
   ]
  },
  {
   "cell_type": "code",
   "execution_count": 21,
   "metadata": {
    "execution": {
     "iopub.execute_input": "2022-12-05T04:34:32.580922Z",
     "iopub.status.busy": "2022-12-05T04:34:32.580035Z",
     "iopub.status.idle": "2022-12-05T04:34:32.673191Z",
     "shell.execute_reply": "2022-12-05T04:34:32.671746Z",
     "shell.execute_reply.started": "2022-12-05T04:34:32.580870Z"
    },
    "id": "KVg-7jhoe4el"
   },
   "outputs": [
    {
     "name": "stdout",
     "output_type": "stream",
     "text": [
      "   RowNumber  CustomerId   Surname  CreditScore Geography  Gender  Age  \\\n",
      "0          1    15634602  Hargrave          619    France  Female   42   \n",
      "1          2    15647311      Hill          608     Spain  Female   41   \n",
      "2          3    15619304      Onio          502    France  Female   42   \n",
      "3          4    15701354      Boni          699    France  Female   39   \n",
      "4          5    15737888  Mitchell          850     Spain  Female   43   \n",
      "\n",
      "   Tenure    Balance  NumOfProducts  HasCrCard  IsActiveMember  \\\n",
      "0       2       0.00              1          1               1   \n",
      "1       1   83807.86              1          0               1   \n",
      "2       8  159660.80              3          1               0   \n",
      "3       1       0.00              2          0               0   \n",
      "4       2  125510.82              1          1               1   \n",
      "\n",
      "   EstimatedSalary  \n",
      "0        101348.88  \n",
      "1        112542.58  \n",
      "2        113931.57  \n",
      "3         93826.63  \n",
      "4         79084.10  \n",
      "\n",
      "RowNumber          0\n",
      "CustomerId         0\n",
      "Surname            0\n",
      "CreditScore        0\n",
      "Geography          0\n",
      "Gender             0\n",
      "Age                0\n",
      "Tenure             0\n",
      "Balance            0\n",
      "NumOfProducts      0\n",
      "HasCrCard          0\n",
      "IsActiveMember     0\n",
      "EstimatedSalary    0\n",
      "dtype: int64\n",
      "\n",
      "         RowNumber    CustomerId   CreditScore           Age        Tenure  \\\n",
      "count  10000.00000  1.000000e+04  10000.000000  10000.000000  10000.000000   \n",
      "mean    5000.50000  1.569094e+07    650.528800     38.921800      5.012800   \n",
      "std     2886.89568  7.193619e+04     96.653299     10.487806      2.892174   \n",
      "min        1.00000  1.556570e+07    350.000000     18.000000      0.000000   \n",
      "25%     2500.75000  1.562853e+07    584.000000     32.000000      3.000000   \n",
      "50%     5000.50000  1.569074e+07    652.000000     37.000000      5.000000   \n",
      "75%     7500.25000  1.575323e+07    718.000000     44.000000      7.000000   \n",
      "max    10000.00000  1.581569e+07    850.000000     92.000000     10.000000   \n",
      "\n",
      "             Balance  NumOfProducts    HasCrCard  IsActiveMember  \\\n",
      "count   10000.000000   10000.000000  10000.00000    10000.000000   \n",
      "mean    76485.889288       1.530200      0.70550        0.515100   \n",
      "std     62397.405202       0.581654      0.45584        0.499797   \n",
      "min         0.000000       1.000000      0.00000        0.000000   \n",
      "25%         0.000000       1.000000      0.00000        0.000000   \n",
      "50%     97198.540000       1.000000      1.00000        1.000000   \n",
      "75%    127644.240000       2.000000      1.00000        1.000000   \n",
      "max    250898.090000       4.000000      1.00000        1.000000   \n",
      "\n",
      "       EstimatedSalary  \n",
      "count     10000.000000  \n",
      "mean     100090.239881  \n",
      "std       57510.492818  \n",
      "min          11.580000  \n",
      "25%       51002.110000  \n",
      "50%      100193.915000  \n",
      "75%      149388.247500  \n",
      "max      199992.480000  \n",
      "\n",
      "<class 'pandas.core.frame.DataFrame'>\n",
      "RangeIndex: 10000 entries, 0 to 9999\n",
      "Data columns (total 13 columns):\n",
      " #   Column           Non-Null Count  Dtype  \n",
      "---  ------           --------------  -----  \n",
      " 0   RowNumber        10000 non-null  int64  \n",
      " 1   CustomerId       10000 non-null  int64  \n",
      " 2   Surname          10000 non-null  object \n",
      " 3   CreditScore      10000 non-null  int64  \n",
      " 4   Geography        10000 non-null  object \n",
      " 5   Gender           10000 non-null  object \n",
      " 6   Age              10000 non-null  int64  \n",
      " 7   Tenure           10000 non-null  int64  \n",
      " 8   Balance          10000 non-null  float64\n",
      " 9   NumOfProducts    10000 non-null  int64  \n",
      " 10  HasCrCard        10000 non-null  int64  \n",
      " 11  IsActiveMember   10000 non-null  int64  \n",
      " 12  EstimatedSalary  10000 non-null  float64\n",
      "dtypes: float64(2), int64(8), object(3)\n",
      "memory usage: 1015.8+ KB\n",
      "None\n",
      "\n",
      "                 RowNumber  CustomerId  CreditScore       Age    Tenure  \\\n",
      "RowNumber         1.000000    0.004202     0.005840  0.000783 -0.006495   \n",
      "CustomerId        0.004202    1.000000     0.005308  0.009497 -0.014883   \n",
      "CreditScore       0.005840    0.005308     1.000000 -0.003965  0.000842   \n",
      "Age               0.000783    0.009497    -0.003965  1.000000 -0.009997   \n",
      "Tenure           -0.006495   -0.014883     0.000842 -0.009997  1.000000   \n",
      "Balance          -0.009067   -0.012419     0.006268  0.028308 -0.012254   \n",
      "NumOfProducts     0.007246    0.016972     0.012238 -0.030680  0.013444   \n",
      "HasCrCard         0.000599   -0.014025    -0.005458 -0.011721  0.022583   \n",
      "IsActiveMember    0.012044    0.001665     0.025651  0.085472 -0.028362   \n",
      "EstimatedSalary  -0.005988    0.015271    -0.001384 -0.007201  0.007784   \n",
      "\n",
      "                  Balance  NumOfProducts  HasCrCard  IsActiveMember  \\\n",
      "RowNumber       -0.009067       0.007246   0.000599        0.012044   \n",
      "CustomerId      -0.012419       0.016972  -0.014025        0.001665   \n",
      "CreditScore      0.006268       0.012238  -0.005458        0.025651   \n",
      "Age              0.028308      -0.030680  -0.011721        0.085472   \n",
      "Tenure          -0.012254       0.013444   0.022583       -0.028362   \n",
      "Balance          1.000000      -0.304180  -0.014858       -0.010084   \n",
      "NumOfProducts   -0.304180       1.000000   0.003183        0.009612   \n",
      "HasCrCard       -0.014858       0.003183   1.000000       -0.011866   \n",
      "IsActiveMember  -0.010084       0.009612  -0.011866        1.000000   \n",
      "EstimatedSalary  0.012797       0.014204  -0.009933       -0.011421   \n",
      "\n",
      "                 EstimatedSalary  \n",
      "RowNumber              -0.005988  \n",
      "CustomerId              0.015271  \n",
      "CreditScore            -0.001384  \n",
      "Age                    -0.007201  \n",
      "Tenure                  0.007784  \n",
      "Balance                 0.012797  \n",
      "NumOfProducts           0.014204  \n",
      "HasCrCard              -0.009933  \n",
      "IsActiveMember         -0.011421  \n",
      "EstimatedSalary         1.000000  \n",
      "\n",
      "Index(['RowNumber', 'CustomerId', 'Surname', 'CreditScore', 'Geography',\n",
      "       'Gender', 'Age', 'Tenure', 'Balance', 'NumOfProducts', 'HasCrCard',\n",
      "       'IsActiveMember', 'EstimatedSalary'],\n",
      "      dtype='object')\n",
      "*  *  *  *  *  *  *  *  *  *  *  *  *  *  *  *  *  *  *  *  *  *  *  *  *  *  *  *  *  *  \n",
      "   Exited\n",
      "0       1\n",
      "1       0\n",
      "2       1\n",
      "3       0\n",
      "4       0\n",
      "\n",
      "Exited    0\n",
      "dtype: int64\n",
      "\n",
      "             Exited\n",
      "count  10000.000000\n",
      "mean       0.203700\n",
      "std        0.402769\n",
      "min        0.000000\n",
      "25%        0.000000\n",
      "50%        0.000000\n",
      "75%        0.000000\n",
      "max        1.000000\n",
      "\n",
      "<class 'pandas.core.frame.DataFrame'>\n",
      "RangeIndex: 10000 entries, 0 to 9999\n",
      "Data columns (total 1 columns):\n",
      " #   Column  Non-Null Count  Dtype\n",
      "---  ------  --------------  -----\n",
      " 0   Exited  10000 non-null  int64\n",
      "dtypes: int64(1)\n",
      "memory usage: 78.2 KB\n",
      "None\n",
      "\n",
      "        Exited\n",
      "Exited     1.0\n",
      "\n",
      "Index(['Exited'], dtype='object')\n",
      "*  *  *  *  *  *  *  *  *  *  *  *  *  *  *  *  *  *  *  *  *  *  *  *  *  *  *  *  *  *  \n"
     ]
    }
   ],
   "source": [
    "X = df.drop('Exited', axis=1)\n",
    "y = df[['Exited']]\n",
    "\n",
    "data = [X, y]\n",
    "for datum in data:\n",
    "    print(datum.head())\n",
    "    print()\n",
    "    print(datum.isnull().sum())\n",
    "    print()\n",
    "    print(datum.describe())\n",
    "    print()\n",
    "    print(datum.info())\n",
    "    print()\n",
    "    print(datum.corr())\n",
    "    print()\n",
    "    print(datum.columns)\n",
    "    print('*  ' * 30)"
   ]
  },
  {
   "cell_type": "code",
   "execution_count": 22,
   "metadata": {
    "execution": {
     "iopub.execute_input": "2022-12-05T04:34:42.022642Z",
     "iopub.status.busy": "2022-12-05T04:34:42.020972Z",
     "iopub.status.idle": "2022-12-05T04:34:42.030367Z",
     "shell.execute_reply": "2022-12-05T04:34:42.028746Z",
     "shell.execute_reply.started": "2022-12-05T04:34:42.022578Z"
    },
    "id": "lm1bz9WTe4em"
   },
   "outputs": [],
   "source": [
    "del_cols = ['RowNumber', 'CustomerId', 'Surname']\n",
    "num_cols = ['CreditScore', 'Age', 'Tenure', 'Balance', 'EstimatedSalary']\n",
    "cat_cols = ['Geography', 'Gender', 'NumOfProducts', 'HasCrCard', 'IsActiveMember']\n",
    "y_col = ['Exited']"
   ]
  },
  {
   "cell_type": "markdown",
   "metadata": {
    "id": "nHNs9cPVe4en"
   },
   "source": [
    "## 3.2. Detect Outliers"
   ]
  },
  {
   "cell_type": "code",
   "execution_count": 23,
   "metadata": {
    "execution": {
     "iopub.execute_input": "2022-12-05T04:34:42.500868Z",
     "iopub.status.busy": "2022-12-05T04:34:42.500295Z",
     "iopub.status.idle": "2022-12-05T04:34:42.535046Z",
     "shell.execute_reply": "2022-12-05T04:34:42.533684Z",
     "shell.execute_reply.started": "2022-12-05T04:34:42.500821Z"
    },
    "id": "E20ReMQBe4en"
   },
   "outputs": [
    {
     "name": "stdout",
     "output_type": "stream",
     "text": [
      "(10000, 13) (9626, 14)\n"
     ]
    }
   ],
   "source": [
    "train = pd.concat([X, y], axis=1)\n",
    "\n",
    "def Counter(x):\n",
    "    Dict = {}\n",
    "    for y in x:\n",
    "        if y in Dict:\n",
    "            Dict[y] +=1\n",
    "        else:\n",
    "            Dict[y] = 1\n",
    "    return Dict\n",
    "\n",
    "def detect_outliers(df, n, features):\n",
    "    outlier_indices = []\n",
    "    for col in features:\n",
    "        q1 = np.percentile(df[col], 25)\n",
    "        q3 = np.percentile(df[col], 75)\n",
    "        iqr = q3 - q1\n",
    "        outlier_step = iqr * 1.5\n",
    "        outlier_rows = df[(df[col] < q1 - outlier_step)|(df[col] > q3 + outlier_step)].index\n",
    "        outlier_indices.extend(outlier_rows)\n",
    "    outlier_indices = Counter(outlier_indices)\n",
    "    multi_outliers = list(k for k, v in outlier_indices.items() if v >= n)\n",
    "    return multi_outliers\n",
    "\n",
    "train = train.drop(detect_outliers(train, 1, num_cols)).reset_index(drop=True)\n",
    "print(X.shape, train.shape)\n",
    "\n",
    "X_train = train.iloc[:,:-1]\n",
    "y_train = train.iloc[:,-1:]"
   ]
  },
  {
   "cell_type": "markdown",
   "metadata": {
    "id": "y5Zw7TDce4eo"
   },
   "source": [
    "## 3.3. Encoding"
   ]
  },
  {
   "cell_type": "code",
   "execution_count": 24,
   "metadata": {
    "execution": {
     "iopub.execute_input": "2022-12-05T04:34:45.028859Z",
     "iopub.status.busy": "2022-12-05T04:34:45.028312Z",
     "iopub.status.idle": "2022-12-05T04:34:45.073272Z",
     "shell.execute_reply": "2022-12-05T04:34:45.071762Z",
     "shell.execute_reply.started": "2022-12-05T04:34:45.028818Z"
    },
    "id": "hsHhDZJPe4ep"
   },
   "outputs": [
    {
     "name": "stdout",
     "output_type": "stream",
     "text": [
      "['France' 'Spain' 'Germany']\n",
      "['female' 'male']\n",
      "[1 3 2 4]\n",
      "[1 0]\n",
      "[1 0]\n"
     ]
    }
   ],
   "source": [
    "X_train.Gender = X_train.Gender.str.lstrip().str.lower()\n",
    "for col in cat_cols:\n",
    "    print(X_train[col].unique())\n",
    "\n",
    "enc = OneHotEncoder(handle_unknown='ignore')\n",
    "enc.fit(X[cat_cols])\n",
    "X_train_enc = pd.DataFrame(enc.transform(X_train[cat_cols]).toarray(), columns = enc.get_feature_names_out())"
   ]
  },
  {
   "cell_type": "markdown",
   "metadata": {
    "id": "7PCWkFzae4ep"
   },
   "source": [
    "# 4. Data Set Split"
   ]
  },
  {
   "cell_type": "code",
   "execution_count": 25,
   "metadata": {
    "execution": {
     "iopub.execute_input": "2022-12-05T04:34:46.003644Z",
     "iopub.status.busy": "2022-12-05T04:34:46.003114Z",
     "iopub.status.idle": "2022-12-05T04:34:46.061280Z",
     "shell.execute_reply": "2022-12-05T04:34:46.060051Z",
     "shell.execute_reply.started": "2022-12-05T04:34:46.003603Z"
    },
    "id": "9zNt_0Xee4eq"
   },
   "outputs": [],
   "source": [
    "X = pd.concat([X_train[num_cols], X_train_enc], axis=1)\n",
    "y = y_train[y_col]\n",
    "\n",
    "X_train, X_test, y_train, y_test = train_test_split(X, y, test_size=0.33, random_state=42, stratify = y)"
   ]
  },
  {
   "cell_type": "markdown",
   "metadata": {
    "id": "0lkhjpPve4eq"
   },
   "source": [
    "# 5. Data Scaling"
   ]
  },
  {
   "cell_type": "code",
   "execution_count": 26,
   "metadata": {
    "execution": {
     "iopub.execute_input": "2022-12-05T04:34:47.619597Z",
     "iopub.status.busy": "2022-12-05T04:34:47.618597Z",
     "iopub.status.idle": "2022-12-05T04:34:47.639799Z",
     "shell.execute_reply": "2022-12-05T04:34:47.638335Z",
     "shell.execute_reply.started": "2022-12-05T04:34:47.619547Z"
    },
    "id": "uSTCD0rUe4er"
   },
   "outputs": [],
   "source": [
    "scaler = StandardScaler()\n",
    "scaler.fit(X_train[num_cols])\n",
    "X_train[num_cols] = scaler.transform(X_train[num_cols])\n",
    "X_test[num_cols] = scaler.transform(X_test[num_cols])"
   ]
  },
  {
   "cell_type": "markdown",
   "metadata": {
    "id": "1Uvll5qfe4es"
   },
   "source": [
    "# 6. Data Modeling"
   ]
  },
  {
   "cell_type": "code",
   "execution_count": 27,
   "metadata": {
    "execution": {
     "iopub.execute_input": "2022-12-05T04:34:48.020156Z",
     "iopub.status.busy": "2022-12-05T04:34:48.019481Z",
     "iopub.status.idle": "2022-12-05T04:34:49.224435Z",
     "shell.execute_reply": "2022-12-05T04:34:49.223308Z",
     "shell.execute_reply.started": "2022-12-05T04:34:48.020118Z"
    },
    "id": "XkWluTGBe4es"
   },
   "outputs": [],
   "source": [
    "rf1 = RandomForestClassifier(max_depth=2, random_state=0, n_jobs=-1)\n",
    "rf1.fit(X_train, y_train.values.ravel())\n",
    "rf1_pred = rf1.predict(X_test)\n",
    "\n",
    "xgb1 = XGBClassifier(random_state=0, n_jobs=-1)\n",
    "xgb1.fit(X_train, y_train)\n",
    "xgb1_pred = xgb1.predict(X_test)"
   ]
  },
  {
   "cell_type": "markdown",
   "metadata": {
    "id": "Ctlnc-UUe4et"
   },
   "source": [
    "# 7. Model Score"
   ]
  },
  {
   "cell_type": "code",
   "execution_count": 28,
   "metadata": {
    "execution": {
     "iopub.execute_input": "2022-12-05T04:34:49.227796Z",
     "iopub.status.busy": "2022-12-05T04:34:49.226873Z",
     "iopub.status.idle": "2022-12-05T04:34:49.243499Z",
     "shell.execute_reply": "2022-12-05T04:34:49.242055Z",
     "shell.execute_reply.started": "2022-12-05T04:34:49.227737Z"
    },
    "id": "Cp6hX9JWe4et"
   },
   "outputs": [
    {
     "name": "stdout",
     "output_type": "stream",
     "text": [
      "Before Tuning -> random forest score: 0.5024775367670185, xgboost score: 0.7360067065149403\n"
     ]
    }
   ],
   "source": [
    "rf1_score = f1_score(y_test, rf1_pred, average = 'macro')\n",
    "xgb1_score = f1_score(y_test, xgb1_pred, average = 'macro')\n",
    "print(f'Before Tuning -> random forest score: {rf1_score}, xgboost score: {xgb1_score}')"
   ]
  },
  {
   "cell_type": "markdown",
   "metadata": {
    "id": "0nbsB0oBe4et"
   },
   "source": [
    "# 8. Hyper Parameter tuning"
   ]
  },
  {
   "cell_type": "code",
   "execution_count": 29,
   "metadata": {
    "execution": {
     "iopub.execute_input": "2022-12-05T03:49:54.656951Z",
     "iopub.status.busy": "2022-12-05T03:49:54.656309Z",
     "iopub.status.idle": "2022-12-05T04:13:47.057182Z",
     "shell.execute_reply": "2022-12-05T04:13:47.055954Z",
     "shell.execute_reply.started": "2022-12-05T03:49:54.656888Z"
    },
    "id": "hIwrmNmOe4eu"
   },
   "outputs": [
    {
     "name": "stdout",
     "output_type": "stream",
     "text": [
      "{'max_depth': 8, 'min_samples_leaf': 1, 'min_samples_split': 2, 'n_estimators': 100}\n",
      "{'colsample_bytree': 0.5, 'learning_rate': 0.01, 'max_depth': 6, 'n_estimators': 1000}\n"
     ]
    }
   ],
   "source": [
    "rf1_parameters = {\n",
    "    'max_depth':[2,4,8], \n",
    "    'min_samples_leaf': [1,2,3],\n",
    "    'min_samples_split': [2,4,6],\n",
    "    'n_estimators': [100,500,1000]\n",
    "    }\n",
    "rf1_cv = GridSearchCV(rf1, rf1_parameters, scoring = 'f1_macro', cv=5)\n",
    "rf1_cv.fit(X_train, y_train.values.ravel())\n",
    "print(rf1_cv.best_params_)\n",
    "\n",
    "xgb1_parameters = {\n",
    "    'colsample_bytree': [0.5, 1],\n",
    "    'learning_rate': [0.1, 0.01, 0.2],\n",
    "    'max_depth': [3,6,9],\n",
    "    'n_estimators': [100,500,1000]\n",
    "}\n",
    "xgb1_cv = GridSearchCV(xgb1, xgb1_parameters, scoring = 'f1_macro', cv=5)\n",
    "xgb1_cv.fit(X_train, y_train)\n",
    "print(xgb1_cv.best_params_)"
   ]
  },
  {
   "cell_type": "code",
   "execution_count": 30,
   "metadata": {
    "execution": {
     "iopub.execute_input": "2022-12-05T04:34:53.704551Z",
     "iopub.status.busy": "2022-12-05T04:34:53.704138Z",
     "iopub.status.idle": "2022-12-05T04:34:55.663679Z",
     "shell.execute_reply": "2022-12-05T04:34:55.662770Z",
     "shell.execute_reply.started": "2022-12-05T04:34:53.704519Z"
    },
    "id": "yo-Ej0XSe4eu"
   },
   "outputs": [
    {
     "name": "stdout",
     "output_type": "stream",
     "text": [
      "After Tuning -> random forest score: 0.7409000489516089, xgboost score: 0.7558814702697061\n"
     ]
    }
   ],
   "source": [
    "clf2 = RandomForestClassifier(max_depth=8, min_samples_leaf=1, min_samples_split=2, n_estimators=100, random_state=0, n_jobs=-1)\n",
    "clf2.fit(X_train, y_train.values.ravel())\n",
    "clf2_pred = clf2.predict(X_test)\n",
    "clf2_score = f1_score(y_test, clf2_pred, average = 'macro')\n",
    "\n",
    "xgb2 = XGBClassifier(colsample_bytree=0.5, learning_rate=0.1, max_depth=6, n_estimators=100, random_state=0, n_jobs=-1)\n",
    "xgb2.fit(X_train, y_train)\n",
    "xgb2_pred = xgb2.predict(X_test)\n",
    "xgb2_score = f1_score(y_test, xgb2_pred, average = 'macro')\n",
    "print(f'After Tuning -> random forest score: {clf2_score}, xgboost score: {xgb2_score}')"
   ]
  }
 ],
 "metadata": {
  "colab": {
   "provenance": []
  },
  "kernelspec": {
   "display_name": "Python 3 (ipykernel)",
   "language": "python",
   "name": "python3"
  },
  "language_info": {
   "codemirror_mode": {
    "name": "ipython",
    "version": 3
   },
   "file_extension": ".py",
   "mimetype": "text/x-python",
   "name": "python",
   "nbconvert_exporter": "python",
   "pygments_lexer": "ipython3",
   "version": "3.9.7"
  }
 },
 "nbformat": 4,
 "nbformat_minor": 1
}
